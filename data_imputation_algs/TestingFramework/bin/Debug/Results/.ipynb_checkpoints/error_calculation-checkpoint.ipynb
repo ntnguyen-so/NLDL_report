{
 "cells": [
  {
   "cell_type": "markdown",
   "id": "d26fd53f-7927-4903-887f-f1fabc012947",
   "metadata": {},
   "source": [
    "This notebook contains reproducible code to calculate errors reported in the NLDL'24 report"
   ]
  },
  {
   "cell_type": "code",
   "execution_count": 35,
   "id": "e2042d8e-f387-4f3e-ae3b-a5d031adfd61",
   "metadata": {},
   "outputs": [],
   "source": [
    "import numpy as np\n",
    "import os\n",
    "import re\n",
    "from collections import defaultdict"
   ]
  },
  {
   "cell_type": "code",
   "execution_count": 36,
   "id": "792d657b-841d-416b-ae52-84e54a563041",
   "metadata": {},
   "outputs": [
    {
     "data": {
      "text/plain": [
       "'/mnt/c/Arbeid/Github_Repo/NLDL_report/data_imputation_algs/TestingFramework/bin/Debug/Results'"
      ]
     },
     "execution_count": 36,
     "metadata": {},
     "output_type": "execute_result"
    }
   ],
   "source": [
    "workdir = !pwd\n",
    "workdir = workdir[0]\n",
    "workdir"
   ]
  },
  {
   "cell_type": "code",
   "execution_count": 37,
   "id": "4d74619e-84b5-40fb-97b6-f4c80897d118",
   "metadata": {},
   "outputs": [],
   "source": [
    "scenarios = ['miss_perc']\n",
    "dataset = 'oceantidepressure'"
   ]
  },
  {
   "cell_type": "code",
   "execution_count": 38,
   "id": "63eab5bd-8c06-493c-b903-cdfd826bd1ae",
   "metadata": {},
   "outputs": [],
   "source": [
    "def config_error_calc(steps_arrange, list_algs, sce_dir):\n",
    "    lengths = np.arange(start=steps_arrange[0], stop=steps_arrange[1], step=steps_arrange[2])\n",
    "    global_path = sce_dir + '/error/'\n",
    "\n",
    "    output_mse = global_path + \"mse/MSE_\"\n",
    "    output_mae = global_path + \"mae/MAE_\"\n",
    "    output_cor = global_path + \"correlation.dat\"\n",
    "    input_missingmat = sce_dir + '/' + \"recovery/values/recovered_matrices/recoveredMat\"\n",
    "\n",
    "    list_algos = list_algs\n",
    "    \n",
    "    return lengths, output_mse, output_rmse, output_mae, output_cor, input_missingmat, list_algos\n",
    "\n",
    "\n",
    "def mse(lengths, output_mse, output_rmse, output_mae, output_cor, input_missingmat, list_algos):\n",
    "    err = defaultdict(list)\n",
    "    for length in lengths:\n",
    "        dftest = np.loadtxt(input_missingmat + str(length) + \".txt\", dtype=float)\n",
    "\n",
    "        for length in lengths:\n",
    "            df = np.loadtxt(input_missingmat + str(length) + \".txt\", dtype=float)\n",
    "            df = df[~np.isnan(df).any(axis=1)]\n",
    "            ref = df[:, 0]        \n",
    "\n",
    "            for i in range(1, df.shape[1]):\n",
    "                #fileName = output_mse + list_algos[i - 1] + \".dat\"\n",
    "                comp = df[:, i]\n",
    "                comp -= ref\n",
    "                msqe_val = np.mean(comp ** 2)\n",
    "                err[list_algos[i-1]].append(msqe_val)\n",
    "    \n",
    "    for alg in err.keys():\n",
    "        errors = err[alg]\n",
    "        print('MSE:', alg, ':', sum(errors) / len(errors))\n",
    "        \n",
    "def mae(lengths, output_mse, output_rmse, output_mae, output_cor, input_missingmat, list_algos):\n",
    "    err = defaultdict(list)\n",
    "    for length in lengths:\n",
    "        dftest = np.loadtxt(input_missingmat + str(length) + \".txt\", dtype=float)\n",
    "\n",
    "        for length in lengths:\n",
    "            df = np.loadtxt(input_missingmat + str(length) + \".txt\", dtype=float)\n",
    "            df = df[~np.isnan(df).any(axis=1)]\n",
    "            ref = df[:, 0]        \n",
    "\n",
    "            for i in range(1, df.shape[1]):\n",
    "                #fileName = output_mse + list_algos[i - 1] + \".dat\"\n",
    "                comp = abs(df[:, i] - ref)\n",
    "                mae_val = np.mean(comp)\n",
    "                err[list_algos[i-1]].append(mae_val)\n",
    "    \n",
    "    for alg in err.keys():\n",
    "        errors = err[alg]\n",
    "        print('MAE:', alg, ':', sum(errors) / len(errors))\n",
    "\n"
   ]
  },
  {
   "cell_type": "code",
   "execution_count": 39,
   "id": "6f269a96-8e80-45b7-a6f0-9cd073db4daf",
   "metadata": {},
   "outputs": [
    {
     "name": "stdout",
     "output_type": "stream",
     "text": [
      "MSE: brits : 0.26543467231341183\n",
      "MSE: m-rnn : 0.30186371840828063\n",
      "MSE: csdipy : 0.6916478820820502\n",
      "MAE: brits : 0.2601759538859269\n",
      "MAE: m-rnn : 0.4090353522252748\n",
      "MAE: csdipy : 0.7870813573851123\n"
     ]
    }
   ],
   "source": [
    "for scenario in scenarios:\n",
    "    try:\n",
    "        #print('------------------------------')\n",
    "        #print(scenario)\n",
    "        error_calculation_r_filepath = workdir + '/' + scenario + '/' + dataset + '/scripts/precision/error_calculation.r'\n",
    "        with open(error_calculation_r_filepath, 'r') as r_file:\n",
    "            for _, line in enumerate(r_file, 1):\n",
    "                if 'lengths <- seq.int' in line:\n",
    "                    steps_arange = re.findall(r'\\d+', line)\n",
    "                    steps_arange = [int(step_arange) for step_arange in steps_arange]\n",
    "                elif 'list_algos <- c' in line:\n",
    "                    list_algs = re.findall(r'\"([^\"]*)\"', line)\n",
    "\n",
    "        lengths, output_mse, output_rmse, output_mae, output_cor, input_missingmat, list_algos = \\\n",
    "            config_error_calc(steps_arange, list_algs, workdir + '/' + scenario + '/' + dataset )\n",
    "        mse(lengths, output_mse, output_rmse, output_mae, output_cor, input_missingmat, list_algos)\n",
    "        mae(lengths, output_mse, output_rmse, output_mae, output_cor, input_missingmat, list_algos)\n",
    "    except:\n",
    "        pass\n",
    "    #break"
   ]
  },
  {
   "cell_type": "code",
   "execution_count": null,
   "id": "acb02552-0912-457a-af55-54eed303de2c",
   "metadata": {},
   "outputs": [],
   "source": []
  }
 ],
 "metadata": {
  "kernelspec": {
   "display_name": "Python 3 (ipykernel)",
   "language": "python",
   "name": "python3"
  },
  "language_info": {
   "codemirror_mode": {
    "name": "ipython",
    "version": 3
   },
   "file_extension": ".py",
   "mimetype": "text/x-python",
   "name": "python",
   "nbconvert_exporter": "python",
   "pygments_lexer": "ipython3",
   "version": "3.8.10"
  }
 },
 "nbformat": 4,
 "nbformat_minor": 5
}
